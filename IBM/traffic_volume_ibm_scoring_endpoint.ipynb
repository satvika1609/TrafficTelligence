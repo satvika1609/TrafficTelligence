{
 "cells": [
  {
   "cell_type": "code",
   "execution_count": 2,
   "id": "3b8f4275",
   "metadata": {},
   "outputs": [
    {
     "data": {
      "text/plain": [
       "['traffic_volume_model.pkl']"
      ]
     },
     "execution_count": 2,
     "metadata": {},
     "output_type": "execute_result"
    }
   ],
   "source": [
    "\n",
    "# Step 2: Import Libraries\n",
    "import pandas as pd\n",
    "from sklearn.model_selection import train_test_split\n",
    "from sklearn.preprocessing import OneHotEncoder, StandardScaler\n",
    "from sklearn.impute import SimpleImputer\n",
    "from sklearn.compose import ColumnTransformer\n",
    "from sklearn.pipeline import Pipeline\n",
    "from sklearn.ensemble import RandomForestRegressor\n",
    "import joblib\n",
    "import json\n",
    "from ibm_watson_machine_learning import APIClient\n",
    "\n",
    "# Step 3: Load Dataset\n",
    "df = pd.read_csv('C:/Users/satvi/OneDrive/Desktop/TrafficTelligence/traffic volume.csv')\n",
    "\n",
    "# Feature Engineering\n",
    "df['timestamp'] = pd.to_datetime(df['date'] + ' ' + df['Time'], format='%d-%m-%Y %H:%M:%S')\n",
    "df['hour'] = df['timestamp'].dt.hour\n",
    "df['dayofweek'] = df['timestamp'].dt.dayofweek\n",
    "df.drop(['date', 'Time', 'timestamp'], axis=1, inplace=True)\n",
    "\n",
    "X = df.drop('traffic_volume', axis=1)\n",
    "y = df['traffic_volume']\n",
    "\n",
    "cat_cols = ['holiday', 'weather']\n",
    "num_cols = ['temp', 'rain', 'snow', 'hour', 'dayofweek']\n",
    "\n",
    "# Preprocessing + Model Pipeline\n",
    "preprocessor = ColumnTransformer([\n",
    "    ('cat', OneHotEncoder(handle_unknown='ignore'), cat_cols),\n",
    "    ('num', Pipeline([\n",
    "        ('imputer', SimpleImputer(strategy='mean')),\n",
    "        ('scaler', StandardScaler())\n",
    "    ]), num_cols)\n",
    "])\n",
    "\n",
    "pipeline = Pipeline([\n",
    "    ('preprocessor', preprocessor),\n",
    "    ('model', RandomForestRegressor(n_estimators=50, random_state=42))\n",
    "])\n",
    "\n",
    "# Train the model\n",
    "X_train, X_test, y_train, y_test = train_test_split(X, y, test_size=0.2, random_state=42)\n",
    "pipeline.fit(X_train, y_train)\n",
    "\n",
    "# Save model locally\n",
    "joblib.dump(pipeline, 'traffic_volume_model.pkl')\n"
   ]
  },
  {
   "cell_type": "code",
   "execution_count": 3,
   "id": "f688dba9",
   "metadata": {},
   "outputs": [
    {
     "name": "stderr",
     "output_type": "stream",
     "text": [
      "Error getting IAM Token.\n",
      "Reason: <Response [400]>\n"
     ]
    },
    {
     "ename": "WMLClientError",
     "evalue": "Error getting IAM Token.\nReason: <Response [400]>",
     "output_type": "error",
     "traceback": [
      "\u001b[1;31m---------------------------------------------------------------------------\u001b[0m",
      "\u001b[1;31mWMLClientError\u001b[0m                            Traceback (most recent call last)",
      "Cell \u001b[1;32mIn[3], line 7\u001b[0m\n\u001b[0;32m      1\u001b[0m \u001b[38;5;66;03m# Step 4: IBM Cloud Credentials\u001b[39;00m\n\u001b[0;32m      2\u001b[0m wml_credentials \u001b[38;5;241m=\u001b[39m {\n\u001b[0;32m      3\u001b[0m     \u001b[38;5;124m\"\u001b[39m\u001b[38;5;124mapikey\u001b[39m\u001b[38;5;124m\"\u001b[39m: \u001b[38;5;124m\"\u001b[39m\u001b[38;5;124mYOUR_API_KEY\u001b[39m\u001b[38;5;124m\"\u001b[39m,\n\u001b[0;32m      4\u001b[0m     \u001b[38;5;124m\"\u001b[39m\u001b[38;5;124murl\u001b[39m\u001b[38;5;124m\"\u001b[39m: \u001b[38;5;124m\"\u001b[39m\u001b[38;5;124mhttps://us-south.ml.cloud.ibm.com\u001b[39m\u001b[38;5;124m\"\u001b[39m\n\u001b[0;32m      5\u001b[0m }\n\u001b[1;32m----> 7\u001b[0m client \u001b[38;5;241m=\u001b[39m \u001b[43mAPIClient\u001b[49m\u001b[43m(\u001b[49m\u001b[43mwml_credentials\u001b[49m\u001b[43m)\u001b[49m\n\u001b[0;32m      9\u001b[0m \u001b[38;5;66;03m# Step 5: Set project space ID (Use the correct space from IBM Cloud)\u001b[39;00m\n\u001b[0;32m     10\u001b[0m client\u001b[38;5;241m.\u001b[39mset\u001b[38;5;241m.\u001b[39mdefault_space(\u001b[38;5;124m\"\u001b[39m\u001b[38;5;124mYOUR_SPACE_ID\u001b[39m\u001b[38;5;124m\"\u001b[39m)\n",
      "File \u001b[1;32mc:\\Users\\satvi\\AppData\\Local\\Programs\\Python\\Python312\\Lib\\site-packages\\ibm_watson_machine_learning\\client.py:367\u001b[0m, in \u001b[0;36mAPIClient.__init__\u001b[1;34m(self, wml_credentials, project_id, verify)\u001b[0m\n\u001b[0;32m    364\u001b[0m     \u001b[38;5;28;01mif\u001b[39;00m \u001b[38;5;28mself\u001b[39m\u001b[38;5;241m.\u001b[39mCLOUD_PLATFORM_SPACES \u001b[38;5;129;01mor\u001b[39;00m \u001b[38;5;28mself\u001b[39m\u001b[38;5;241m.\u001b[39mICP_PLATFORM_SPACES:\n\u001b[0;32m    365\u001b[0m         \u001b[38;5;28mprint\u001b[39m(Messages\u001b[38;5;241m.\u001b[39mget_message(message_id\u001b[38;5;241m=\u001b[39m\u001b[38;5;124m\"\u001b[39m\u001b[38;5;124mpython_3_7_3_8_framework_are_deprecated\u001b[39m\u001b[38;5;124m\"\u001b[39m))\n\u001b[1;32m--> 367\u001b[0m \u001b[38;5;28mself\u001b[39m\u001b[38;5;241m.\u001b[39mservice_instance \u001b[38;5;241m=\u001b[39m \u001b[43mServiceInstanceNewPlan\u001b[49m\u001b[43m(\u001b[49m\u001b[38;5;28;43mself\u001b[39;49m\u001b[43m)\u001b[49m\n\u001b[0;32m    368\u001b[0m \u001b[38;5;28mself\u001b[39m\u001b[38;5;241m.\u001b[39mvolumes \u001b[38;5;241m=\u001b[39m Volume(\u001b[38;5;28mself\u001b[39m)\n\u001b[0;32m    370\u001b[0m \u001b[38;5;28;01mif\u001b[39;00m \u001b[38;5;28mself\u001b[39m\u001b[38;5;241m.\u001b[39mICP_PLATFORM_SPACES:\n",
      "File \u001b[1;32mc:\\Users\\satvi\\AppData\\Local\\Programs\\Python\\Python312\\Lib\\site-packages\\ibm_watson_machine_learning\\instance_new_plan.py:41\u001b[0m, in \u001b[0;36mServiceInstanceNewPlan.__init__\u001b[1;34m(self, client)\u001b[0m\n\u001b[0;32m     31\u001b[0m     \u001b[38;5;66;03m# TODO: Check if this is used anywhere.. from initial searches, doesn't seem like\u001b[39;00m\n\u001b[0;32m     32\u001b[0m     \u001b[38;5;66;03m# self._wml_credentials[u'instance_id'] = \"999\"\u001b[39;00m\n\u001b[0;32m     33\u001b[0m \n\u001b[0;32m     34\u001b[0m \u001b[38;5;66;03m# This is used in connections.py\u001b[39;00m\n\u001b[0;32m     35\u001b[0m \u001b[38;5;28mself\u001b[39m\u001b[38;5;241m.\u001b[39m_href_definitions \u001b[38;5;241m=\u001b[39m HrefDefinitions(\u001b[38;5;28mself\u001b[39m\u001b[38;5;241m.\u001b[39m_client,\n\u001b[0;32m     36\u001b[0m                                          \u001b[38;5;28mself\u001b[39m\u001b[38;5;241m.\u001b[39m_client\u001b[38;5;241m.\u001b[39mCLOUD_PLATFORM_SPACES,\n\u001b[0;32m     37\u001b[0m                                          \u001b[38;5;28mself\u001b[39m\u001b[38;5;241m.\u001b[39m_client\u001b[38;5;241m.\u001b[39mPLATFORM_URL,\n\u001b[0;32m     38\u001b[0m                                          \u001b[38;5;28mself\u001b[39m\u001b[38;5;241m.\u001b[39m_client\u001b[38;5;241m.\u001b[39mCAMS_URL,\n\u001b[0;32m     39\u001b[0m                                          \u001b[38;5;28mself\u001b[39m\u001b[38;5;241m.\u001b[39m_client\u001b[38;5;241m.\u001b[39mICP_PLATFORM_SPACES)\n\u001b[1;32m---> 41\u001b[0m \u001b[38;5;28mself\u001b[39m\u001b[38;5;241m.\u001b[39m_client\u001b[38;5;241m.\u001b[39mwml_token \u001b[38;5;241m=\u001b[39m \u001b[38;5;28;43mself\u001b[39;49m\u001b[38;5;241;43m.\u001b[39;49m\u001b[43m_get_token\u001b[49m\u001b[43m(\u001b[49m\u001b[43m)\u001b[49m\n\u001b[0;32m     43\u001b[0m \u001b[38;5;28;01mif\u001b[39;00m \u001b[38;5;129;01mnot\u001b[39;00m \u001b[38;5;28mself\u001b[39m\u001b[38;5;241m.\u001b[39m_client\u001b[38;5;241m.\u001b[39mproceed:  \u001b[38;5;66;03m# there is no 'token' in wml_credentials\u001b[39;00m\n\u001b[0;32m     44\u001b[0m     delta \u001b[38;5;241m=\u001b[39m \u001b[38;5;28mself\u001b[39m\u001b[38;5;241m.\u001b[39m_get_expiration_datetime() \u001b[38;5;241m-\u001b[39m datetime\u001b[38;5;241m.\u001b[39mnow()\n",
      "File \u001b[1;32mc:\\Users\\satvi\\AppData\\Local\\Programs\\Python\\Python312\\Lib\\site-packages\\ibm_watson_machine_learning\\instance_new_plan.py:187\u001b[0m, in \u001b[0;36mServiceInstanceNewPlan._get_token\u001b[1;34m(self)\u001b[0m\n\u001b[0;32m    185\u001b[0m \u001b[38;5;28;01mdef\u001b[39;00m \u001b[38;5;21m_get_token\u001b[39m(\u001b[38;5;28mself\u001b[39m):\n\u001b[0;32m    186\u001b[0m     \u001b[38;5;28;01mif\u001b[39;00m \u001b[38;5;28mself\u001b[39m\u001b[38;5;241m.\u001b[39m_client\u001b[38;5;241m.\u001b[39mwml_token \u001b[38;5;129;01mis\u001b[39;00m \u001b[38;5;28;01mNone\u001b[39;00m:\n\u001b[1;32m--> 187\u001b[0m         \u001b[38;5;28;01mreturn\u001b[39;00m \u001b[38;5;28;43mself\u001b[39;49m\u001b[38;5;241;43m.\u001b[39;49m\u001b[43m_create_token\u001b[49m\u001b[43m(\u001b[49m\u001b[43m)\u001b[49m\n\u001b[0;32m    189\u001b[0m     \u001b[38;5;28;01mif\u001b[39;00m \u001b[38;5;28mself\u001b[39m\u001b[38;5;241m.\u001b[39m_is_token_refresh_possible():\n\u001b[0;32m    190\u001b[0m         \u001b[38;5;28;01mif\u001b[39;00m \u001b[38;5;28mself\u001b[39m\u001b[38;5;241m.\u001b[39m_client\u001b[38;5;241m.\u001b[39mICP:\n",
      "File \u001b[1;32mc:\\Users\\satvi\\AppData\\Local\\Programs\\Python\\Python312\\Lib\\site-packages\\ibm_watson_machine_learning\\instance_new_plan.py:215\u001b[0m, in \u001b[0;36mServiceInstanceNewPlan._create_token\u001b[1;34m(self)\u001b[0m\n\u001b[0;32m    213\u001b[0m \u001b[38;5;28;01mif\u001b[39;00m \u001b[38;5;129;01mnot\u001b[39;00m \u001b[38;5;28mself\u001b[39m\u001b[38;5;241m.\u001b[39m_client\u001b[38;5;241m.\u001b[39mICP_PLATFORM_SPACES:\n\u001b[0;32m    214\u001b[0m     \u001b[38;5;28;01mif\u001b[39;00m \u001b[38;5;28mself\u001b[39m\u001b[38;5;241m.\u001b[39m_client\u001b[38;5;241m.\u001b[39m_is_IAM():\n\u001b[1;32m--> 215\u001b[0m         \u001b[38;5;28;01mreturn\u001b[39;00m \u001b[38;5;28;43mself\u001b[39;49m\u001b[38;5;241;43m.\u001b[39;49m\u001b[43m_get_IAM_token\u001b[49m\u001b[43m(\u001b[49m\u001b[43m)\u001b[49m\n\u001b[0;32m    216\u001b[0m     \u001b[38;5;28;01melse\u001b[39;00m:\n\u001b[0;32m    217\u001b[0m         \u001b[38;5;28;01mraise\u001b[39;00m WMLClientError(\u001b[38;5;124m'\u001b[39m\u001b[38;5;124mapikey for IAM token is not provided in credentials for the client.\u001b[39m\u001b[38;5;124m'\u001b[39m)\n",
      "File \u001b[1;32mc:\\Users\\satvi\\AppData\\Local\\Programs\\Python\\Python312\\Lib\\site-packages\\ibm_watson_machine_learning\\instance_new_plan.py:276\u001b[0m, in \u001b[0;36mServiceInstanceNewPlan._get_IAM_token\u001b[1;34m(self)\u001b[0m\n\u001b[0;32m    274\u001b[0m     \u001b[38;5;28mself\u001b[39m\u001b[38;5;241m.\u001b[39m_expiration_datetime \u001b[38;5;241m=\u001b[39m \u001b[38;5;28;01mNone\u001b[39;00m\n\u001b[0;32m    275\u001b[0m \u001b[38;5;28;01melse\u001b[39;00m:\n\u001b[1;32m--> 276\u001b[0m     \u001b[38;5;28;01mraise\u001b[39;00m WMLClientError(\u001b[38;5;124mu\u001b[39m\u001b[38;5;124m'\u001b[39m\u001b[38;5;124mError getting IAM Token.\u001b[39m\u001b[38;5;124m'\u001b[39m, response)\n\u001b[0;32m    277\u001b[0m \u001b[38;5;28;01mreturn\u001b[39;00m token\n",
      "\u001b[1;31mWMLClientError\u001b[0m: Error getting IAM Token.\nReason: <Response [400]>"
     ]
    }
   ],
   "source": [
    "# Step 4: IBM Cloud Credentials\n",
    "wml_credentials = {\n",
    "    \"apikey\": \"YOUR_API_KEY\",\n",
    "    \"url\": \"https://us-south.ml.cloud.ibm.com\"\n",
    "}\n",
    "\n",
    "client = APIClient(wml_credentials)\n",
    "\n",
    "# Step 5: Set project space ID (Use the correct space from IBM Cloud)\n",
    "client.set.default_space(\"YOUR_SPACE_ID\")\n"
   ]
  },
  {
   "cell_type": "code",
   "execution_count": null,
   "id": "2f8f932e",
   "metadata": {},
   "outputs": [],
   "source": [
    "# Step 6: Store the model to WML\n",
    "model_meta = {\n",
    "    client.repository.ModelMetaNames.NAME: \"Traffic Volume Prediction Model\",\n",
    "    client.repository.ModelMetaNames.TYPE: \"scikit-learn_1.0\",\n",
    "    client.repository.ModelMetaNames.SOFTWARE_SPEC_UID: client.software_specifications.get_id_by_name(\"default_py3.10\")\n",
    "}\n",
    "\n",
    "published_model = client.repository.store_model(\n",
    "    model='traffic_volume_model.pkl',\n",
    "    meta_props=model_meta,\n",
    "    training_data=None,\n",
    "    training_target=None\n",
    ")\n",
    "\n",
    "model_id = published_model[\"metadata\"][\"id\"]\n",
    "print(\"✅ Model ID:\", model_id)\n"
   ]
  },
  {
   "cell_type": "code",
   "execution_count": null,
   "id": "1506e725",
   "metadata": {},
   "outputs": [],
   "source": [
    "# Step 7: Create Deployment\n",
    "deployment = client.deployments.create(\n",
    "    artifact_uid=model_id,\n",
    "    meta_props={\n",
    "        client.deployments.ConfigurationMetaNames.NAME: \"Traffic Volume Deployment\",\n",
    "        client.deployments.ConfigurationMetaNames.ONLINE: {}\n",
    "    }\n",
    ")\n",
    "\n",
    "deployment_id = deployment[\"metadata\"][\"id\"]\n",
    "scoring_endpoint = client.deployments.get_scoring_href(deployment)\n",
    "print(\"✅ Deployment ID:\", deployment_id)\n",
    "print(\"🚀 Scoring Endpoint:\", scoring_endpoint)\n"
   ]
  },
  {
   "cell_type": "code",
   "execution_count": null,
   "id": "3d5f4d8a",
   "metadata": {},
   "outputs": [],
   "source": [
    "# Step 8: Use deployed model for inference\n",
    "scoring_payload = {\n",
    "    client.deployments.ScoringMetaNames.INPUT_DATA: [{\n",
    "        \"fields\": ['holiday', 'weather', 'temp', 'rain', 'snow', 'hour', 'dayofweek'],\n",
    "        \"values\": [['None', 'Clear', 295.5, 0.0, 0.0, 14, 2]]\n",
    "    }]\n",
    "}\n",
    "\n",
    "prediction = client.deployments.score(scoring_endpoint, scoring_payload)\n",
    "print(\"📊 Prediction:\", prediction)\n"
   ]
  }
 ],
 "metadata": {
  "kernelspec": {
   "display_name": "Python 3",
   "language": "python",
   "name": "python3"
  },
  "language_info": {
   "codemirror_mode": {
    "name": "ipython",
    "version": 3
   },
   "file_extension": ".py",
   "mimetype": "text/x-python",
   "name": "python",
   "nbconvert_exporter": "python",
   "pygments_lexer": "ipython3",
   "version": "3.12.0"
  }
 },
 "nbformat": 4,
 "nbformat_minor": 5
}
